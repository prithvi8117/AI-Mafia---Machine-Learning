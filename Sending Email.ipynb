{
 "cells": [
  {
   "cell_type": "markdown",
   "metadata": {},
   "source": [
    "# Sending Email"
   ]
  },
  {
   "cell_type": "code",
   "execution_count": 20,
   "metadata": {},
   "outputs": [],
   "source": [
    "import smtplib                             #To use the SMTP protocol\n",
    "import getpass                             #To get the password in password format\n",
    "from email.mime.text import MIMEText       #Writing in the message(email) format"
   ]
  },
  {
   "cell_type": "code",
   "execution_count": 21,
   "metadata": {},
   "outputs": [
    {
     "name": "stdout",
     "output_type": "stream",
     "text": [
      "········\n",
      "gogo@1we4\n"
     ]
    }
   ],
   "source": [
    "pas = getpass.getpass()\n",
    "print(pas)"
   ]
  },
  {
   "cell_type": "code",
   "execution_count": 22,
   "metadata": {},
   "outputs": [
    {
     "data": {
      "text/plain": [
       "'gogo@1we4'"
      ]
     },
     "execution_count": 22,
     "metadata": {},
     "output_type": "execute_result"
    }
   ],
   "source": [
    "pas"
   ]
  },
  {
   "cell_type": "code",
   "execution_count": 35,
   "metadata": {},
   "outputs": [],
   "source": [
    "#Sending Email to one Recipient\n",
    "\n",
    "def send_email():\n",
    "    sender_address = input('Enter Your Email Address : ')\n",
    "    print('Enter Your Email Password :', end=' ')\n",
    "    password = getpass.getpass()\n",
    "    recipient_email = input('Enter the recipient\\'s email address : ')\n",
    "    subject = 'Practicing Sending Email Through Python'\n",
    "    message = '''\n",
    "        Hello Friend,\n",
    "        I am just learning more features of Python.\n",
    "        And I have sent this e-mail through python using smtplib, getpass, MIMEText libraries\n",
    "        Thank You for being my friend,\n",
    "        Please send me a screenshot of this e-mail.\n",
    "        \n",
    "        Best Regards,\n",
    "        Prithvi Raj Karki\n",
    "    '''\n",
    "    server = smtplib.SMTP('smtp.gmail.com', 587)    #Server will get initiated (Server Initialisation). Enables SMTP server. For gmail the SMTP port is 587.\n",
    "    server.starttls()                               #This will start the server. tls is a handshake, allow the connection\n",
    "    server.login(sender_address, password)          #Log in to the server with sender's address and password\n",
    "    \n",
    "    #Drafting sender's message body\n",
    "    \n",
    "    message = MIMEText(message)\n",
    "    message['Subject'] = subject\n",
    "    message['From'] = sender_address\n",
    "    message['To'] = recipient_email\n",
    "    recipients = recipient_email\n",
    "    \n",
    "    message.set_param('importance', 'high value')   #Optional\n",
    "    \n",
    "    #Sending the mail with all necessary fields(parameters)\n",
    "    server.sendmail(sender_address, recipients, message.as_string())\n",
    "    return 'SUCCESS'"
   ]
  },
  {
   "cell_type": "code",
   "execution_count": 15,
   "metadata": {},
   "outputs": [
    {
     "name": "stdout",
     "output_type": "stream",
     "text": [
      "Enter Your Email Address : prithviraj1854@gmail.com\n",
      "Enter Your Email Password : ········\n",
      "Enter the recipient's email address : rkdevilgo@gmail.com\n",
      "SUCCESS\n"
     ]
    }
   ],
   "source": [
    "print(send_email())"
   ]
  },
  {
   "cell_type": "code",
   "execution_count": 34,
   "metadata": {},
   "outputs": [],
   "source": [
    "#Sending Email to one or more than one Recipient\n",
    "\n",
    "def send_email():\n",
    "    sender_address = input('Enter Your Email Address : ')\n",
    "    print('Enter Your Email Password :', end=' ')\n",
    "    password = getpass.getpass()\n",
    "    \n",
    "    #Accepting space seperated emails and storing them in a list as a list of emails of the recipients\n",
    "    recipients_email = list(map(str, input('Enter the space seperated recipients email addresses : ').split()))\n",
    "    \n",
    "    subject = 'Practicing Sending Email Through Python'\n",
    "    message = '''\n",
    "        Hello Friend,\n",
    "        I am just learning more features of Python.\n",
    "        And I have sent this e-mail through python using smtplib, getpass, MIMEText libraries\n",
    "        Thank You for being my friend,\n",
    "        Please send me a screenshot of this e-mail.\n",
    "        \n",
    "        Best Regards,\n",
    "        Prithvi Raj Karki\n",
    "    '''\n",
    "    server = smtplib.SMTP('smtp.gmail.com', 587)    #Server will get initiated (Server Initialisation). For gmail the SMTP port is 587.\n",
    "    server.starttls()                               #This will start the server. tls is a handshake, allow the connection\n",
    "    server.login(sender_address, password)          #Log in to the server with sender's address and password\n",
    "    \n",
    "    #Drafting sender's message body\n",
    "    \n",
    "    message = MIMEText(message)\n",
    "    message['Subject'] = subject\n",
    "    message['From'] = sender_address\n",
    "    \n",
    "    #As multiple recipients so joining the comma seperated emails in one string and giving the value to To Field of email\n",
    "    message['To'] = ', '.join(recipients_email)\n",
    "    recipients = recipients_email\n",
    "    \n",
    "    message.set_param('importance', 'high value')     #Optional: highly important mails most \n",
    "    \n",
    "    #Sending the mail with all necessary fields(parameters)\n",
    "    server.sendmail(sender_address, recipients, message.as_string())\n",
    "    return 'SUCCESS'"
   ]
  }
 ],
 "metadata": {
  "kernelspec": {
   "display_name": "Python 3",
   "language": "python",
   "name": "python3"
  },
  "language_info": {
   "codemirror_mode": {
    "name": "ipython",
    "version": 3
   },
   "file_extension": ".py",
   "mimetype": "text/x-python",
   "name": "python",
   "nbconvert_exporter": "python",
   "pygments_lexer": "ipython3",
   "version": "3.7.6"
  }
 },
 "nbformat": 4,
 "nbformat_minor": 4
}
